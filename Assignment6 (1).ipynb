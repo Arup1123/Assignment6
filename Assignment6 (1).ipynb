{
 "cells": [
  {
   "cell_type": "markdown",
   "id": "e831115b-913f-47c4-8d1f-aff94d79b911",
   "metadata": {},
   "source": [
    "Assignment 6"
   ]
  },
  {
   "cell_type": "markdown",
   "id": "1b4e73b5-56ed-4cae-8a89-4de6967905c5",
   "metadata": {},
   "source": [
    "Q1. Explain class and object with respect to object-oriented programming. Give a suitable example."
   ]
  },
  {
   "cell_type": "markdown",
   "id": "cd953035-60d1-402b-9383-921f8828441a",
   "metadata": {},
   "source": [
    "Ans: A class is a user defined blueprint or prototype from which objects are created. Classes provide\n",
    "     a means of bundling data and functionality together. Creating a new class creates a new type of object, allowing new          instances of that type to be made. Each class instance can have attributes attached to it for maintaining its state.          Class instances can also have methods for modifying their state."
   ]
  },
  {
   "cell_type": "code",
   "execution_count": null,
   "id": "7950acd8-8ef0-4292-8045-259a22fbb46e",
   "metadata": {},
   "outputs": [],
   "source": [
    "#Example:\n",
    "class person:\n",
    "    def __init__(self,name,age):\n",
    "        self.name=name\n",
    "        self.age=age\n",
    "p=person(\"Ram\",25)\n",
    "p.name\n",
    "p.age"
   ]
  },
  {
   "cell_type": "markdown",
   "id": "cb451e21-f3a4-4cdc-ae28-27d5e049e2ab",
   "metadata": {},
   "source": [
    "Q2. Name the four pillars of OOPs."
   ]
  },
  {
   "cell_type": "markdown",
   "id": "8d5dbf19-c7a7-4c9e-9c84-1ace65124c08",
   "metadata": {},
   "source": [
    "Ans:\n",
    "Four pillars of OOPs are\n",
    "1.Encapsulation\n",
    "2.Abstraction\n",
    "3.Inheritance\n",
    "4.Polymorphism"
   ]
  },
  {
   "cell_type": "markdown",
   "id": "13125a49-94c0-456c-8e5b-68801bca488a",
   "metadata": {},
   "source": [
    "Q3. Explain why __init__() function is used. Give a suitable example."
   ]
  },
  {
   "cell_type": "markdown",
   "id": "5c411430-d5cc-4c06-8407-0a9f755e6372",
   "metadata": {},
   "source": [
    "Ans: \"__init__\" is a reserved method in python classes. It is known as a constructor in OOP concepts. This method called\n",
    "     when an object is created from the class and it allows the class to initiallize the attributes of a class. \n"
   ]
  },
  {
   "cell_type": "code",
   "execution_count": 2,
   "id": "eb901e9b-8d1d-4fce-b845-78105adfc2b6",
   "metadata": {},
   "outputs": [
    {
     "name": "stdout",
     "output_type": "stream",
     "text": [
      "Hello, my name is Ram\n"
     ]
    }
   ],
   "source": [
    "#Example:\n",
    "class person:\n",
    "    def __init__(self,name):\n",
    "        self.name=name\n",
    "    def say_hi(self):\n",
    "        print(\"Hello, my name is\",self.name)\n",
    "p=person(\"Ram\")\n",
    "p.say_hi()"
   ]
  },
  {
   "cell_type": "markdown",
   "id": "c02f55a4-e987-4126-af75-7de4552d9868",
   "metadata": {},
   "source": [
    "Q4. Why self is used in OOPs?"
   ]
  },
  {
   "cell_type": "markdown",
   "id": "e8da06b0-5836-402f-a846-b2d567f55438",
   "metadata": {},
   "source": [
    "Ans: Self represent the instance of class. This handy keyword allows we to access variables, attributes, and methods of a \n",
    "     defined class in python. So we used self in OOPs. "
   ]
  },
  {
   "cell_type": "markdown",
   "id": "1078b42d-4139-4ce4-bc51-a126861afb39",
   "metadata": {},
   "source": [
    "Q5. What is inheritance? Give an example for each type of inheritance."
   ]
  },
  {
   "cell_type": "markdown",
   "id": "5a4e05eb-2bdb-4ea6-bfd3-d10fc92ee9f3",
   "metadata": {},
   "source": [
    "Ans: Inheritance is the mechanism to achieve the reusability of code as one class(child class) can derive the propereties of        another class(parent class). "
   ]
  },
  {
   "cell_type": "code",
   "execution_count": 3,
   "id": "896e0f5f-4878-42c9-a542-c1f27e2d17b3",
   "metadata": {},
   "outputs": [
    {
     "name": "stdout",
     "output_type": "stream",
     "text": [
      "animal speaking\n",
      "dog barking\n"
     ]
    }
   ],
   "source": [
    "#Example of Single inheritance\n",
    "class animal:\n",
    "    def speak(self):\n",
    "        print(\"animal speaking\")\n",
    "class dog(animal):\n",
    "    def bark(self):\n",
    "        print(\"dog barking\")\n",
    "d=dog()\n",
    "d.speak()\n",
    "d.bark()"
   ]
  },
  {
   "cell_type": "code",
   "execution_count": 5,
   "id": "af5f4697-62a7-44eb-9fd2-c2f483f3ea75",
   "metadata": {},
   "outputs": [
    {
     "name": "stdout",
     "output_type": "stream",
     "text": [
      "5\n",
      "30\n",
      "8\n"
     ]
    }
   ],
   "source": [
    "#Example of multiple inheritance\n",
    "class class1:                   \n",
    "    def sum(self,a,b):\n",
    "        return a+b\n",
    "class class2:                      \n",
    "    def multiply(self,a,b):\n",
    "        return a*b\n",
    "class class3(class1,class2):          \n",
    "    def subtraction(self,a,b):\n",
    "        return a-b\n",
    "x=class3()                        \n",
    "print(x.sum(2,3))\n",
    "print(x.multiply(5,6))\n",
    "print(x.subtraction(10,2))"
   ]
  },
  {
   "cell_type": "code",
   "execution_count": 3,
   "id": "90441f1f-ed53-45e7-85ec-fbc79da3d2b4",
   "metadata": {},
   "outputs": [
    {
     "name": "stdout",
     "output_type": "stream",
     "text": [
      "Grandfather name: Harish\n",
      "Father name: Ram\n",
      "Son name: Prince\n"
     ]
    }
   ],
   "source": [
    "#example of multilevel inheritance\n",
    "class Grandfather:\n",
    "    def __init__(self,grandfatherName):\n",
    "        self.grandfatherName=grandfatherName\n",
    "class Father(Grandfather):\n",
    "    def __init__(self,fatherName,grandfatherName):\n",
    "        self.fatherName=fatherName\n",
    "        Grandfather.__init__(self,grandfatherName)\n",
    "class Son(Father):\n",
    "    def __init__(self,sonName,fatherName,grandfatherName):\n",
    "            self.sonName=sonName\n",
    "            Father.__init__(self,fatherName,grandfatherName)\n",
    "    def printName(self):\n",
    "        print(\"Grandfather name:\", self.grandfatherName)\n",
    "        print(\"Father name:\",self.fatherName)\n",
    "        print(\"Son name:\", self.sonName)\n",
    "s=Son(\"Prince\",\"Ram\",\"Harish\")\n",
    "s.printName()        \n",
    "    "
   ]
  },
  {
   "cell_type": "code",
   "execution_count": null,
   "id": "7923a782-b2bd-44aa-9511-9e2659d5c8bc",
   "metadata": {},
   "outputs": [],
   "source": []
  }
 ],
 "metadata": {
  "kernelspec": {
   "display_name": "Python 3 (ipykernel)",
   "language": "python",
   "name": "python3"
  },
  "language_info": {
   "codemirror_mode": {
    "name": "ipython",
    "version": 3
   },
   "file_extension": ".py",
   "mimetype": "text/x-python",
   "name": "python",
   "nbconvert_exporter": "python",
   "pygments_lexer": "ipython3",
   "version": "3.10.8"
  }
 },
 "nbformat": 4,
 "nbformat_minor": 5
}
